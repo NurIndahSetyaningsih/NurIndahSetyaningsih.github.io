{
  "nbformat": 4,
  "nbformat_minor": 0,
  "metadata": {
    "colab": {
      "provenance": []
    },
    "kernelspec": {
      "name": "python3",
      "display_name": "Python 3"
    },
    "language_info": {
      "name": "python"
    }
  },
  "cells": [
    {
      "cell_type": "markdown",
      "source": [
        "##Topic 3 - Python Structure & Data Type Assignment\n"
      ],
      "metadata": {
        "id": "f6LjKU50-tD8"
      }
    },
    {
      "cell_type": "markdown",
      "source": [
        "# Data Type Declaration"
      ],
      "metadata": {
        "id": "MPuR878HZEbx"
      }
    },
    {
      "cell_type": "markdown",
      "source": [
        "1. > Create an empty variable (Points : 5)"
      ],
      "metadata": {
        "id": "GyS5I54D-3K9"
      }
    },
    {
      "cell_type": "code",
      "source": [
        "var_empty = None #membuat variabel kosong"
      ],
      "metadata": {
        "id": "jehesBY-_aKL"
      },
      "execution_count": null,
      "outputs": []
    },
    {
      "cell_type": "code",
      "source": [
        "var_empty #menampilkan variabel var_empty"
      ],
      "metadata": {
        "id": "fkw6MN5NcC3Q"
      },
      "execution_count": null,
      "outputs": []
    },
    {
      "cell_type": "markdown",
      "source": [
        "2. > Create a variable containing your name (Points : 5)"
      ],
      "metadata": {
        "id": "6zCz3qZ8_bu2"
      }
    },
    {
      "cell_type": "code",
      "source": [
        "my_name='indah' #membuat variabel dengan nama \"my_name\" "
      ],
      "metadata": {
        "id": "1wT8jnI6_f-U"
      },
      "execution_count": null,
      "outputs": []
    },
    {
      "cell_type": "code",
      "source": [
        "my_name #menampilkan variabel my_name"
      ],
      "metadata": {
        "colab": {
          "base_uri": "https://localhost:8080/",
          "height": 35
        },
        "id": "OPmXPS4UfPw6",
        "outputId": "144305dd-355b-4159-8715-080fcc568c47"
      },
      "execution_count": null,
      "outputs": [
        {
          "output_type": "execute_result",
          "data": {
            "text/plain": [
              "'indah'"
            ],
            "application/vnd.google.colaboratory.intrinsic+json": {
              "type": "string"
            }
          },
          "metadata": {},
          "execution_count": 4
        }
      ]
    },
    {
      "cell_type": "markdown",
      "source": [
        "3. > Create a list of 5 items you can find in the classroom (Points : 5)"
      ],
      "metadata": {
        "id": "ApatE8m__2Ud"
      }
    },
    {
      "cell_type": "code",
      "source": [
        "item_classroom = ['table','book','whiteboard','pencil','chair'] #membuat list dengan nama item_classroom"
      ],
      "metadata": {
        "id": "-Q0Ynqx1_6hF"
      },
      "execution_count": null,
      "outputs": []
    },
    {
      "cell_type": "code",
      "source": [
        "item_classroom #menampilkan list item_classroom"
      ],
      "metadata": {
        "colab": {
          "base_uri": "https://localhost:8080/"
        },
        "id": "GSPY-U7LfGDG",
        "outputId": "7b7dc43b-123e-42ac-dace-0b21b0b3b7c4"
      },
      "execution_count": null,
      "outputs": [
        {
          "output_type": "execute_result",
          "data": {
            "text/plain": [
              "['table', 'book', 'whiteboard', 'pencil', 'chair']"
            ]
          },
          "metadata": {},
          "execution_count": 7
        }
      ]
    },
    {
      "cell_type": "markdown",
      "source": [
        "4. > Create a dictionary containing 2 keys and value (Points : 5)"
      ],
      "metadata": {
        "id": "6FwMmy_9AS5N"
      }
    },
    {
      "cell_type": "code",
      "source": [
        "#membuat dictionary dengan nama dict_alphabet\n",
        "dict_alphabet = {\n",
        "    'vocal': ['a','i','u','e','o'],\n",
        "    'consonant':['b','c','d','f','g']\n",
        "}"
      ],
      "metadata": {
        "id": "xLc2AlhtASOm"
      },
      "execution_count": null,
      "outputs": []
    },
    {
      "cell_type": "code",
      "source": [
        "dict_alphabet #menampilkan dict_alphabet"
      ],
      "metadata": {
        "colab": {
          "base_uri": "https://localhost:8080/"
        },
        "id": "v_Y_YU8Eg_-D",
        "outputId": "ebeef72a-8194-4c81-e80c-33aa287535ce"
      },
      "execution_count": null,
      "outputs": [
        {
          "output_type": "execute_result",
          "data": {
            "text/plain": [
              "{'vocal': ['a', 'i', 'u', 'e', 'o'], 'consonant': ['b', 'c', 'd', 'f', 'g']}"
            ]
          },
          "metadata": {},
          "execution_count": 9
        }
      ]
    },
    {
      "cell_type": "markdown",
      "source": [
        "# Basic Data Operation"
      ],
      "metadata": {
        "id": "6AqPfAS7a1Oi"
      }
    },
    {
      "cell_type": "markdown",
      "source": [
        "You sold 20 pieces of electronics at the price of 12000. The customer gets a total discount of 10%.\n",
        "\n",
        "Below are those variables:\n",
        "\n",
        "1.   price=12000\n",
        "2.   quantity_sold=20\n",
        "3.   discount=10%\n",
        "\n",
        "\n",
        "Using Python code, write the code the find the total money that the customer to pay. (Points : 15)"
      ],
      "metadata": {
        "id": "-ZZF1cXlbqkJ"
      }
    },
    {
      "cell_type": "code",
      "source": [
        "#mendeklarasikan variabel\n",
        "price=12000\n",
        "quantity_sold=20\n",
        "disc=0.1 #karena simbol % dalam python termasuk operator, maka bentuk persen diubah ke dalam bentuk desimal \n",
        "total_money=price*quantity_sold-(price*quantity_sold*disc)\n",
        "print('So, the total money that the customer should pay is', int(total_money))#menampilkan total money"
      ],
      "metadata": {
        "id": "90T0A2HvbcCK",
        "colab": {
          "base_uri": "https://localhost:8080/"
        },
        "outputId": "4da117a1-950b-4505-c64e-2b6ce2f19a90"
      },
      "execution_count": null,
      "outputs": [
        {
          "output_type": "stream",
          "name": "stdout",
          "text": [
            "So, the total money that the customer should pay is 216000\n"
          ]
        }
      ]
    },
    {
      "cell_type": "markdown",
      "source": [
        "# List Data Operation"
      ],
      "metadata": {
        "id": "G-HHsg4la6mJ"
      }
    },
    {
      "cell_type": "markdown",
      "source": [
        "5. > Follow the instructions in the code blocks\n",
        "\n",
        "\n",
        "\n"
      ],
      "metadata": {
        "id": "NdoSjVZ4Zbqg"
      }
    },
    {
      "cell_type": "code",
      "source": [
        "# Create list of countries in the world (total 7 countries) (Points : 5)\n",
        "country = ['Indonesia','Malaysia','Vietnam','Singapore','Myanmar','Laos','Thailand'] #membuat list dengan nama country"
      ],
      "metadata": {
        "id": "xsFxlZGLaQ7y"
      },
      "execution_count": null,
      "outputs": []
    },
    {
      "cell_type": "code",
      "source": [
        "country #menampilkan list"
      ],
      "metadata": {
        "colab": {
          "base_uri": "https://localhost:8080/"
        },
        "id": "idYYhJMSLXUA",
        "outputId": "f929530b-f564-4875-fb42-891bd753b72a"
      },
      "execution_count": null,
      "outputs": [
        {
          "output_type": "execute_result",
          "data": {
            "text/plain": [
              "['Indonesia',\n",
              " 'Malaysia',\n",
              " 'Vietnam',\n",
              " 'Singapore',\n",
              " 'Myanmar',\n",
              " 'Laos',\n",
              " 'Thailand']"
            ]
          },
          "metadata": {},
          "execution_count": 12
        }
      ]
    },
    {
      "cell_type": "code",
      "source": [
        "# Get 4 countries from the first index of the list (Points : 5)\n",
        "country[0:4] #menampilkan 4 elemen pertama dalam list"
      ],
      "metadata": {
        "id": "6Se125DabJ6R",
        "colab": {
          "base_uri": "https://localhost:8080/"
        },
        "outputId": "a6af30db-24a8-4199-d001-3f0362af5b2e"
      },
      "execution_count": null,
      "outputs": [
        {
          "output_type": "execute_result",
          "data": {
            "text/plain": [
              "['Indonesia', 'Malaysia', 'Vietnam', 'Singapore']"
            ]
          },
          "metadata": {},
          "execution_count": 13
        }
      ]
    },
    {
      "cell_type": "code",
      "source": [
        "# Append new country to the list (Points : 5)\n",
        "country.append('Philippines') #menambahkan elemen baru ke dalam list yaitu Philippines"
      ],
      "metadata": {
        "id": "FSU5QfExbKAh"
      },
      "execution_count": null,
      "outputs": []
    },
    {
      "cell_type": "code",
      "source": [
        "country #menampilkan list setelah ditambahkan elemen baru"
      ],
      "metadata": {
        "colab": {
          "base_uri": "https://localhost:8080/"
        },
        "id": "nN-D_-EdXSDF",
        "outputId": "609263d0-0c41-4044-a88a-eb291ea64fe9"
      },
      "execution_count": null,
      "outputs": [
        {
          "output_type": "execute_result",
          "data": {
            "text/plain": [
              "['Indonesia',\n",
              " 'Malaysia',\n",
              " 'Vietnam',\n",
              " 'Singapore',\n",
              " 'Myanmar',\n",
              " 'Laos',\n",
              " 'Thailand',\n",
              " 'Philippines']"
            ]
          },
          "metadata": {},
          "execution_count": 15
        }
      ]
    },
    {
      "cell_type": "code",
      "source": [
        "# Drop one country from the list (Points : 5)\n",
        "country.remove('Laos') #menghapus elemen Laos dalam list country"
      ],
      "metadata": {
        "id": "DlvXbKlnbKGR"
      },
      "execution_count": null,
      "outputs": []
    },
    {
      "cell_type": "code",
      "source": [
        "country #menampilkan list setelah menghapus elemen Laos"
      ],
      "metadata": {
        "colab": {
          "base_uri": "https://localhost:8080/"
        },
        "id": "IZBU5v9WXnA5",
        "outputId": "7b60a006-540e-4180-d221-1e1625bf2644"
      },
      "execution_count": null,
      "outputs": [
        {
          "output_type": "execute_result",
          "data": {
            "text/plain": [
              "['Indonesia',\n",
              " 'Malaysia',\n",
              " 'Vietnam',\n",
              " 'Singapore',\n",
              " 'Myanmar',\n",
              " 'Thailand',\n",
              " 'Philippines']"
            ]
          },
          "metadata": {},
          "execution_count": 17
        }
      ]
    },
    {
      "cell_type": "code",
      "source": [
        "# Get country in the last index (Points : 5)\n",
        "country[-1] #menampilkan elemen terakhir"
      ],
      "metadata": {
        "id": "F1NJ6JCQbKJ7",
        "colab": {
          "base_uri": "https://localhost:8080/",
          "height": 35
        },
        "outputId": "f6d5ae39-af8e-4f17-b9ec-f6a0cd9cd186"
      },
      "execution_count": null,
      "outputs": [
        {
          "output_type": "execute_result",
          "data": {
            "text/plain": [
              "'Philippines'"
            ],
            "application/vnd.google.colaboratory.intrinsic+json": {
              "type": "string"
            }
          },
          "metadata": {},
          "execution_count": 18
        }
      ]
    },
    {
      "cell_type": "markdown",
      "source": [
        "# Dictionary Data Operation"
      ],
      "metadata": {
        "id": "Kfkq-SmIdJR6"
      }
    },
    {
      "cell_type": "markdown",
      "source": [
        "6. >  Follow the instructions below\n",
        "\n",
        "\n",
        "\n"
      ],
      "metadata": {
        "id": "WyJ8CJzdeMiS"
      }
    },
    {
      "cell_type": "code",
      "source": [
        "# Given the dictionary below\n",
        "#membuat dictionary dengan nama customer\n",
        "customer={\n",
        "    \"name\":['Dio','Eka','Wayu','Riki'],\n",
        "    \"age\":[20,19,24,39],\n",
        "    \"gender\":[1,0,0,1],\n",
        "    \"membership\":['Platinum','Gold','Silver','Silver']\n",
        "}"
      ],
      "metadata": {
        "id": "fVHYIKLwdMfq"
      },
      "execution_count": null,
      "outputs": []
    },
    {
      "cell_type": "code",
      "source": [
        "# Print all keys in customer (Points : 5)\n",
        "dict.keys(customer) #menampilkan semua key dalam dictionary customer"
      ],
      "metadata": {
        "id": "LpRVtz4_eJK5",
        "colab": {
          "base_uri": "https://localhost:8080/"
        },
        "outputId": "77dce245-72f3-4e17-d86d-3d4e2ab13ae7"
      },
      "execution_count": null,
      "outputs": [
        {
          "output_type": "execute_result",
          "data": {
            "text/plain": [
              "dict_keys(['name', 'age', 'gender', 'membership'])"
            ]
          },
          "metadata": {},
          "execution_count": 2
        }
      ]
    },
    {
      "cell_type": "code",
      "source": [
        "# Print all customer names (Points : 5)\n",
        "customer['name'] #menampilkan semua nama customer"
      ],
      "metadata": {
        "id": "QiEMM94FeYrz",
        "colab": {
          "base_uri": "https://localhost:8080/"
        },
        "outputId": "f4e1f5fd-ab18-41ff-d2e9-81ff3ee3ee35"
      },
      "execution_count": null,
      "outputs": [
        {
          "output_type": "execute_result",
          "data": {
            "text/plain": [
              "['Dio', 'Eka', 'Wayu', 'Riki']"
            ]
          },
          "metadata": {},
          "execution_count": 3
        }
      ]
    },
    {
      "cell_type": "code",
      "source": [
        "# Print the first customer name (Points : 5)\n",
        "customer['name'][0] #menampilkan nama customer pertama"
      ],
      "metadata": {
        "id": "P2SeErUGgQ-D",
        "colab": {
          "base_uri": "https://localhost:8080/",
          "height": 35
        },
        "outputId": "59261ef6-2616-46d1-fd34-27b26885cecd"
      },
      "execution_count": null,
      "outputs": [
        {
          "output_type": "execute_result",
          "data": {
            "text/plain": [
              "'Dio'"
            ],
            "application/vnd.google.colaboratory.intrinsic+json": {
              "type": "string"
            }
          },
          "metadata": {},
          "execution_count": 4
        }
      ]
    },
    {
      "cell_type": "code",
      "source": [
        "# Drop \"age\" key from the dictionary (Points : 5)\n",
        "del customer['age']#menghapus key age"
      ],
      "metadata": {
        "id": "c3PlmHxueiPy"
      },
      "execution_count": null,
      "outputs": []
    },
    {
      "cell_type": "code",
      "source": [
        "customer #nenampilkan dictionary customer setelah menghapus age"
      ],
      "metadata": {
        "colab": {
          "base_uri": "https://localhost:8080/"
        },
        "id": "yTPC03L0YzLH",
        "outputId": "6d4007a1-9beb-4b91-b4ad-ed9d8d99d8bd"
      },
      "execution_count": null,
      "outputs": [
        {
          "output_type": "execute_result",
          "data": {
            "text/plain": [
              "{'name': ['Dio', 'Eka', 'Wayu', 'Riki'],\n",
              " 'gender': [1, 0, 0, 1],\n",
              " 'membership': ['Platinum', 'Gold', 'Silver', 'Silver']}"
            ]
          },
          "metadata": {},
          "execution_count": 6
        }
      ]
    },
    {
      "cell_type": "code",
      "source": [
        "# Replace customer gender list value (Points : 20)\n",
        "# gender 1 => Male\n",
        "# gender 0 => Female \n",
        "customer['gender']=['Male'if x==1 else'Female'for x in customer['gender']] #mengganti customer gender 1 untuk Male dan 0 untuk Female"
      ],
      "metadata": {
        "id": "FgXDh9mIea9x"
      },
      "execution_count": null,
      "outputs": []
    },
    {
      "cell_type": "code",
      "source": [
        "customer #nenampilkan dictionary customer setelah mengganti gender"
      ],
      "metadata": {
        "colab": {
          "base_uri": "https://localhost:8080/"
        },
        "id": "EKc5nxi2nXZR",
        "outputId": "ed8915af-006c-495d-f2e4-c92cfc1f2ae1"
      },
      "execution_count": null,
      "outputs": [
        {
          "output_type": "execute_result",
          "data": {
            "text/plain": [
              "{'name': ['Dio', 'Eka', 'Wayu', 'Riki'],\n",
              " 'gender': ('Male', 'Female', 'Female', 'Male'),\n",
              " 'membership': ['Platinum', 'Gold', 'Silver', 'Silver']}"
            ]
          },
          "metadata": {},
          "execution_count": 26
        }
      ]
    }
  ]
}
